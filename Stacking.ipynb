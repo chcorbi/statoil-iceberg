{
 "cells": [
  {
   "cell_type": "code",
   "execution_count": 2,
   "metadata": {
    "_cell_guid": "28a96b13-fb54-43af-aeb9-ccb40526ec1f",
    "_uuid": "518b490c58f98a59d25d8d5d8c39dca0673564e1"
   },
   "outputs": [],
   "source": [
    "import os\n",
    "import numpy as np \n",
    "import pandas as pd "
   ]
  },
  {
   "cell_type": "markdown",
   "metadata": {
    "_cell_guid": "1840df41-7524-4305-93d9-423a2a6fe5bd",
    "_uuid": "aae1d396e2fad44a15fcb8e970c5affa8fb6ddc6"
   },
   "source": [
    "# Data Load"
   ]
  },
  {
   "cell_type": "code",
   "execution_count": 16,
   "metadata": {
    "_cell_guid": "c978c838-8a87-45ef-a118-b6bd565bdb2e",
    "_uuid": "1fa9dd2434873dc5bc918b102a3a69649d0f35c7"
   },
   "outputs": [
    {
     "name": "stdout",
     "output_type": "stream",
     "text": [
      "['submission_nonorm.csv', 'submission_shiftzoom.csv', 'submission_newseed.csv', 'submission_original.csv', 'submission_noaugment.csv', 'submission_densenoaugment.csv']\n"
     ]
    },
    {
     "data": {
      "text/html": [
       "<div>\n",
       "<table border=\"1\" class=\"dataframe\">\n",
       "  <thead>\n",
       "    <tr style=\"text-align: right;\">\n",
       "      <th></th>\n",
       "      <th>id</th>\n",
       "      <th>is_iceberg_0</th>\n",
       "      <th>is_iceberg_1</th>\n",
       "      <th>is_iceberg_2</th>\n",
       "      <th>is_iceberg_3</th>\n",
       "      <th>is_iceberg_4</th>\n",
       "      <th>is_iceberg_5</th>\n",
       "    </tr>\n",
       "  </thead>\n",
       "  <tbody>\n",
       "    <tr>\n",
       "      <th>0</th>\n",
       "      <td>5941774d</td>\n",
       "      <td>0.014893</td>\n",
       "      <td>0.020135</td>\n",
       "      <td>0.030152</td>\n",
       "      <td>0.173533</td>\n",
       "      <td>0.133513</td>\n",
       "      <td>0.217252</td>\n",
       "    </tr>\n",
       "    <tr>\n",
       "      <th>1</th>\n",
       "      <td>4023181e</td>\n",
       "      <td>0.738189</td>\n",
       "      <td>0.651737</td>\n",
       "      <td>0.525810</td>\n",
       "      <td>0.782985</td>\n",
       "      <td>0.572950</td>\n",
       "      <td>0.589870</td>\n",
       "    </tr>\n",
       "    <tr>\n",
       "      <th>2</th>\n",
       "      <td>b20200e4</td>\n",
       "      <td>0.000181</td>\n",
       "      <td>0.000674</td>\n",
       "      <td>0.000444</td>\n",
       "      <td>0.000002</td>\n",
       "      <td>0.005628</td>\n",
       "      <td>0.000002</td>\n",
       "    </tr>\n",
       "    <tr>\n",
       "      <th>3</th>\n",
       "      <td>e7f018bb</td>\n",
       "      <td>0.986621</td>\n",
       "      <td>0.982486</td>\n",
       "      <td>0.982120</td>\n",
       "      <td>0.983651</td>\n",
       "      <td>0.971778</td>\n",
       "      <td>0.957472</td>\n",
       "    </tr>\n",
       "    <tr>\n",
       "      <th>4</th>\n",
       "      <td>4371c8c3</td>\n",
       "      <td>0.891878</td>\n",
       "      <td>0.820381</td>\n",
       "      <td>0.771800</td>\n",
       "      <td>0.630755</td>\n",
       "      <td>0.831036</td>\n",
       "      <td>0.337472</td>\n",
       "    </tr>\n",
       "  </tbody>\n",
       "</table>\n",
       "</div>"
      ],
      "text/plain": [
       "         id  is_iceberg_0  is_iceberg_1  is_iceberg_2  is_iceberg_3  \\\n",
       "0  5941774d      0.014893      0.020135      0.030152      0.173533   \n",
       "1  4023181e      0.738189      0.651737      0.525810      0.782985   \n",
       "2  b20200e4      0.000181      0.000674      0.000444      0.000002   \n",
       "3  e7f018bb      0.986621      0.982486      0.982120      0.983651   \n",
       "4  4371c8c3      0.891878      0.820381      0.771800      0.630755   \n",
       "\n",
       "   is_iceberg_4  is_iceberg_5  \n",
       "0      0.133513      0.217252  \n",
       "1      0.572950      0.589870  \n",
       "2      0.005628      0.000002  \n",
       "3      0.971778      0.957472  \n",
       "4      0.831036      0.337472  "
      ]
     },
     "execution_count": 16,
     "metadata": {},
     "output_type": "execute_result"
    }
   ],
   "source": [
    "sub_path = \"submissions\"\n",
    "all_files = os.listdir(sub_path)\n",
    "\n",
    "# Read and concatenate submissions\n",
    "outs = [pd.read_csv(os.path.join(sub_path, f), index_col=0) for f in all_files]\n",
    "concat_sub = pd.concat(outs, axis=1)\n",
    "cols = list(map(lambda x: \"is_iceberg_\" + str(x), range(len(concat_sub.columns))))\n",
    "concat_sub.columns = cols\n",
    "concat_sub.reset_index(inplace=True)\n",
    "concat_sub.head()\n"
   ]
  },
  {
   "cell_type": "code",
   "execution_count": 4,
   "metadata": {
    "_cell_guid": "a193cac9-e544-4749-8622-2c0a7d882193",
    "_uuid": "37b39229e34b71032d8d2371c6b731ed452b8eb2"
   },
   "outputs": [
    {
     "data": {
      "text/html": [
       "<div>\n",
       "<table border=\"1\" class=\"dataframe\">\n",
       "  <thead>\n",
       "    <tr style=\"text-align: right;\">\n",
       "      <th></th>\n",
       "      <th>is_iceberg_0</th>\n",
       "      <th>is_iceberg_1</th>\n",
       "      <th>is_iceberg_2</th>\n",
       "      <th>is_iceberg_3</th>\n",
       "      <th>is_iceberg_4</th>\n",
       "      <th>is_iceberg_5</th>\n",
       "    </tr>\n",
       "  </thead>\n",
       "  <tbody>\n",
       "    <tr>\n",
       "      <th>is_iceberg_0</th>\n",
       "      <td>1.000000</td>\n",
       "      <td>0.988481</td>\n",
       "      <td>0.979019</td>\n",
       "      <td>0.826720</td>\n",
       "      <td>0.969011</td>\n",
       "      <td>0.877193</td>\n",
       "    </tr>\n",
       "    <tr>\n",
       "      <th>is_iceberg_1</th>\n",
       "      <td>0.988481</td>\n",
       "      <td>1.000000</td>\n",
       "      <td>0.990653</td>\n",
       "      <td>0.867007</td>\n",
       "      <td>0.977980</td>\n",
       "      <td>0.895832</td>\n",
       "    </tr>\n",
       "    <tr>\n",
       "      <th>is_iceberg_2</th>\n",
       "      <td>0.979019</td>\n",
       "      <td>0.990653</td>\n",
       "      <td>1.000000</td>\n",
       "      <td>0.873313</td>\n",
       "      <td>0.980502</td>\n",
       "      <td>0.903381</td>\n",
       "    </tr>\n",
       "    <tr>\n",
       "      <th>is_iceberg_3</th>\n",
       "      <td>0.826720</td>\n",
       "      <td>0.867007</td>\n",
       "      <td>0.873313</td>\n",
       "      <td>1.000000</td>\n",
       "      <td>0.868697</td>\n",
       "      <td>0.841379</td>\n",
       "    </tr>\n",
       "    <tr>\n",
       "      <th>is_iceberg_4</th>\n",
       "      <td>0.969011</td>\n",
       "      <td>0.977980</td>\n",
       "      <td>0.980502</td>\n",
       "      <td>0.868697</td>\n",
       "      <td>1.000000</td>\n",
       "      <td>0.888093</td>\n",
       "    </tr>\n",
       "    <tr>\n",
       "      <th>is_iceberg_5</th>\n",
       "      <td>0.877193</td>\n",
       "      <td>0.895832</td>\n",
       "      <td>0.903381</td>\n",
       "      <td>0.841379</td>\n",
       "      <td>0.888093</td>\n",
       "      <td>1.000000</td>\n",
       "    </tr>\n",
       "  </tbody>\n",
       "</table>\n",
       "</div>"
      ],
      "text/plain": [
       "              is_iceberg_0  is_iceberg_1  is_iceberg_2  is_iceberg_3  \\\n",
       "is_iceberg_0      1.000000      0.988481      0.979019      0.826720   \n",
       "is_iceberg_1      0.988481      1.000000      0.990653      0.867007   \n",
       "is_iceberg_2      0.979019      0.990653      1.000000      0.873313   \n",
       "is_iceberg_3      0.826720      0.867007      0.873313      1.000000   \n",
       "is_iceberg_4      0.969011      0.977980      0.980502      0.868697   \n",
       "is_iceberg_5      0.877193      0.895832      0.903381      0.841379   \n",
       "\n",
       "              is_iceberg_4  is_iceberg_5  \n",
       "is_iceberg_0      0.969011      0.877193  \n",
       "is_iceberg_1      0.977980      0.895832  \n",
       "is_iceberg_2      0.980502      0.903381  \n",
       "is_iceberg_3      0.868697      0.841379  \n",
       "is_iceberg_4      1.000000      0.888093  \n",
       "is_iceberg_5      0.888093      1.000000  "
      ]
     },
     "execution_count": 4,
     "metadata": {},
     "output_type": "execute_result"
    }
   ],
   "source": [
    "# check correlation\n",
    "concat_sub.corr()"
   ]
  },
  {
   "cell_type": "code",
   "execution_count": 5,
   "metadata": {
    "_cell_guid": "c7be9be8-b999-42d9-a0cc-6bf2a035b25b",
    "_uuid": "07cdbb447c11008557c1773e464d08f798d8b2b2"
   },
   "outputs": [],
   "source": [
    "# get the data fields ready for stacking\n",
    "concat_sub['is_iceberg_max'] = concat_sub.iloc[:, 1:6].max(axis=1)\n",
    "concat_sub['is_iceberg_min'] = concat_sub.iloc[:, 1:6].min(axis=1)\n",
    "concat_sub['is_iceberg_mean'] = concat_sub.iloc[:, 1:6].mean(axis=1)\n",
    "concat_sub['is_iceberg_median'] = concat_sub.iloc[:, 1:6].median(axis=1)"
   ]
  },
  {
   "cell_type": "code",
   "execution_count": 6,
   "metadata": {
    "_cell_guid": "2b115d55-48f4-43c6-9b22-dbd8cd5a28a8",
    "_uuid": "d412b01db3dd513eef9158bfaaebe96617e79d5b"
   },
   "outputs": [],
   "source": [
    "# set up cutoff threshold for lower and upper bounds, easy to twist \n",
    "cutoff_lo = 0.8\n",
    "cutoff_hi = 0.2"
   ]
  },
  {
   "cell_type": "markdown",
   "metadata": {
    "_cell_guid": "d0493bc1-1d92-4bc7-aa84-107fcb6d7324",
    "_uuid": "698574b4531ce5ec1c59d5afaf451392169af5e0"
   },
   "source": [
    "# Mean Stacking"
   ]
  },
  {
   "cell_type": "code",
   "execution_count": 7,
   "metadata": {
    "_cell_guid": "f1169e63-b019-4a39-87b5-8fa1d0488f09",
    "_uuid": "a6642e2884dacc8c5095413e6a0945c6791ee1b5"
   },
   "outputs": [],
   "source": [
    "concat_sub['is_iceberg'] = concat_sub['is_iceberg_mean']\n",
    "concat_sub[['id', 'is_iceberg']].to_csv('stack_mean.csv', \n",
    "                                        index=False, float_format='%.6f')"
   ]
  },
  {
   "cell_type": "markdown",
   "metadata": {
    "_cell_guid": "64a7aeea-ac14-4ae8-ac62-0c58b13c1f9e",
    "_uuid": "a24eecfd51f4f6665d751f3f1c126e46a44426bd"
   },
   "source": [
    "**LB 0.1698** , decent first try - still some gap comparing with our top-line model performance in stack."
   ]
  },
  {
   "cell_type": "markdown",
   "metadata": {
    "_cell_guid": "103f2414-04a8-40bd-8ffc-4e77e510e023",
    "_uuid": "d213635b179fc8d07a6985d257c8c3e0007e0f7a"
   },
   "source": [
    "# Median Stacking"
   ]
  },
  {
   "cell_type": "code",
   "execution_count": 8,
   "metadata": {
    "_cell_guid": "9d5af2c0-1cc5-4adc-9153-d20d19c69bd6",
    "_uuid": "76fc5734615b45bf6234df1f450c9a24ca518834"
   },
   "outputs": [],
   "source": [
    "concat_sub['is_iceberg'] = concat_sub['is_iceberg_median']\n",
    "concat_sub[['id', 'is_iceberg']].to_csv('stack_median.csv', \n",
    "                                        index=False, float_format='%.6f')"
   ]
  },
  {
   "cell_type": "markdown",
   "metadata": {
    "_cell_guid": "3da1db01-1922-4d34-ae02-1d3acfa59fca",
    "_uuid": "a1a1754ba1c9ca956da71920dcc5bf2f0ee78172"
   },
   "source": [
    "**LB 0.1575**, very close with our top-line model performance, but we want to see some improvement at least."
   ]
  },
  {
   "cell_type": "markdown",
   "metadata": {
    "_cell_guid": "fba2a588-19a4-41fd-a495-af6a3a551777",
    "_uuid": "caa0cb178c1f4921cb7c5b6552bfe4e0fb91475e"
   },
   "source": [
    "# PushOut + Median Stacking \n",
    "\n",
    "Pushout strategy is a bit agressive given what it does..."
   ]
  },
  {
   "cell_type": "code",
   "execution_count": 9,
   "metadata": {
    "_cell_guid": "f8646a39-f2cc-483a-912b-46af12b5de64",
    "_uuid": "e6038b30485244cf144ede75fb3ecab55afa3f84"
   },
   "outputs": [],
   "source": [
    "concat_sub['is_iceberg'] = np.where(np.all(concat_sub.iloc[:,1:6] > cutoff_lo, axis=1), 1, \n",
    "                                    np.where(np.all(concat_sub.iloc[:,1:6] < cutoff_hi, axis=1),\n",
    "                                             0, concat_sub['is_iceberg_median']))\n",
    "concat_sub[['id', 'is_iceberg']].to_csv('stack_pushout_median.csv', \n",
    "                                        index=False, float_format='%.6f')"
   ]
  },
  {
   "cell_type": "markdown",
   "metadata": {
    "_cell_guid": "f016ad2f-ddc9-4182-a288-32f4dcb466d3",
    "_uuid": "ed7b3420cf44929c977970605c9c231714926e0e"
   },
   "source": [
    "**LB 0.1940**, not very impressive results given the base models in the pipeline..."
   ]
  },
  {
   "cell_type": "markdown",
   "metadata": {
    "_cell_guid": "26fa22e0-4f00-455b-8328-3e3cdf34adfb",
    "_uuid": "9244a9d9ddce162fa7ddd7d32e271097b0b405df"
   },
   "source": [
    "# MinMax + Mean Stacking\n",
    "\n",
    "MinMax seems more gentle and it outperforms the previous one given its peformance score."
   ]
  },
  {
   "cell_type": "code",
   "execution_count": 10,
   "metadata": {
    "_cell_guid": "7634aaa4-2466-45b1-afbf-32dedb8691a4",
    "_uuid": "4ffd0c65d59a03ee04d5452b853efac717f3f3f7"
   },
   "outputs": [],
   "source": [
    "concat_sub['is_iceberg'] = np.where(np.all(concat_sub.iloc[:,1:6] > cutoff_lo, axis=1), \n",
    "                                    concat_sub['is_iceberg_max'], \n",
    "                                    np.where(np.all(concat_sub.iloc[:,1:6] < cutoff_hi, axis=1),\n",
    "                                             concat_sub['is_iceberg_min'], \n",
    "                                             concat_sub['is_iceberg_mean']))\n",
    "concat_sub[['id', 'is_iceberg']].to_csv('stack_minmax_mean.csv', \n",
    "                                        index=False, float_format='%.6f')"
   ]
  },
  {
   "cell_type": "markdown",
   "metadata": {
    "_cell_guid": "de9e7a52-2a3e-440a-9056-93ed4d9f87f9",
    "_uuid": "c4da0e0b2530daf4fdcb362980ad9fbfce5b3476"
   },
   "source": [
    "**LB 0.1622**, need to stack with Median to see the results."
   ]
  },
  {
   "cell_type": "markdown",
   "metadata": {
    "_cell_guid": "61831c59-a583-45d6-9bba-1102d1f80862",
    "_uuid": "95b5ccf95505b498dede6966f2a899c376d855dd"
   },
   "source": [
    "# MinMax + Median Stacking "
   ]
  },
  {
   "cell_type": "code",
   "execution_count": 11,
   "metadata": {
    "_cell_guid": "8aa75397-da75-4d93-916e-d88f464e13fe",
    "_uuid": "d4b7e91489d86452dc6d13340109e07da40f9fa9"
   },
   "outputs": [],
   "source": [
    "concat_sub['is_iceberg'] = np.where(np.all(concat_sub.iloc[:,1:6] > cutoff_lo, axis=1), \n",
    "                                    concat_sub['is_iceberg_max'], \n",
    "                                    np.where(np.all(concat_sub.iloc[:,1:6] < cutoff_hi, axis=1),\n",
    "                                             concat_sub['is_iceberg_min'], \n",
    "                                             concat_sub['is_iceberg_median']))\n",
    "concat_sub[['id', 'is_iceberg']].to_csv('stack_minmax_median.csv', \n",
    "                                        index=False, float_format='%.6f')"
   ]
  },
  {
   "cell_type": "markdown",
   "metadata": {
    "_cell_guid": "b9d1df47-6c0b-4bca-9357-ceaf61746171",
    "_uuid": "1abbdcd40aca61b375ee4dd0e3e90b814cecceba"
   },
   "source": [
    "**LB 0.1488** - **Great!** This is an improvement to our top-line model performance (LB 0.1538). But can we do better?"
   ]
  },
  {
   "cell_type": "markdown",
   "metadata": {
    "_cell_guid": "307ebff0-d690-4dbf-8496-3fc8340bcc60",
    "_uuid": "935499734e508b98e7d694606bd2851a4b3cbce5"
   },
   "source": [
    "# MinMax + BestBase Stacking"
   ]
  },
  {
   "cell_type": "code",
   "execution_count": 14,
   "metadata": {
    "_cell_guid": "59f60095-f1ff-4c26-8d51-e0111e80f3ba",
    "_uuid": "8e3f2ac12368eac5fc2b69e9e899873dd33adef8"
   },
   "outputs": [],
   "source": [
    "# load the model with best base performance\n",
    "sub_base = pd.read_csv('submissions/submission_shiftzoom.csv')"
   ]
  },
  {
   "cell_type": "code",
   "execution_count": 15,
   "metadata": {
    "_cell_guid": "2758287f-0e47-4dc6-ab11-004ce8812f8f",
    "_uuid": "2ac62e85fbafd2a9095e71d576633a65694787d8"
   },
   "outputs": [],
   "source": [
    "concat_sub['is_iceberg_base'] = sub_base['is_iceberg']\n",
    "concat_sub['is_iceberg'] = np.where(np.all(concat_sub.iloc[:,1:6] > cutoff_lo, axis=1), \n",
    "                                    concat_sub['is_iceberg_max'], \n",
    "                                    np.where(np.all(concat_sub.iloc[:,1:6] < cutoff_hi, axis=1),\n",
    "                                             concat_sub['is_iceberg_min'], \n",
    "                                             concat_sub['is_iceberg_base']))\n",
    "concat_sub[['id', 'is_iceberg']].to_csv('stack_minmax_bestbase.csv', \n",
    "                                        index=False, float_format='%.6f')"
   ]
  },
  {
   "cell_type": "markdown",
   "metadata": {
    "_cell_guid": "c493ff8f-99bd-4b20-8e68-80b4f85682c9",
    "_uuid": "f4a0c7572916fd1ace3a3b0b7ea9fd9564c96d4d"
   },
   "source": [
    "**LB 0.1463** - **Yes!** This is a decent score given none of the models in our ensemble pipeline has achieved thus better. I am sure there are more twisted ways to boost the score further, so will keep updating or just leave to more Kagglers to discover!"
   ]
  },
  {
   "cell_type": "markdown",
   "metadata": {
    "_cell_guid": "a6e915c2-719e-41be-8760-e05271058ac7",
    "_uuid": "3b1a6a2c393b1858847a895dbfc92f4bd71b719a"
   },
   "source": [
    "\n",
    "### P.S. As I wrote along this work, deeply I think, building strong & roboust model is always the key component, stacking only comes last with the promise to surprise, sometimes, in an unpleasant direction@ \n",
    "\n",
    "\n"
   ]
  },
  {
   "cell_type": "markdown",
   "metadata": {},
   "source": [
    "# Weighted mean Stacking"
   ]
  },
  {
   "cell_type": "code",
   "execution_count": 17,
   "metadata": {},
   "outputs": [
    {
     "name": "stdout",
     "output_type": "stream",
     "text": [
      "['submission_nonorm.csv', 'submission_shiftzoom.csv', 'submission_newseed.csv', 'submission_original.csv', 'submission_noaugment.csv', 'submission_densenoaugment.csv']\n"
     ]
    }
   ],
   "source": [
    "print all_files"
   ]
  },
  {
   "cell_type": "code",
   "execution_count": 20,
   "metadata": {},
   "outputs": [],
   "source": [
    "concat_sub['is_iceberg'] = (concat_sub['is_iceberg_0']*(1.-0.1602) + concat_sub['is_iceberg_1']*(1.-0.1568) \\\n",
    "                                        + concat_sub['is_iceberg_2']*(1.-0.1601) + concat_sub['is_iceberg_3']*(1.-0.1692) \\\n",
    "                                        + concat_sub['is_iceberg_4']*(1.-0.1932) + concat_sub['is_iceberg_5']*(1.-0.1972)) \\\n",
    "                                        / (6-0.1602-0.1568-0.1601-0.1692-0.1932-0.1972)"
   ]
  },
  {
   "cell_type": "code",
   "execution_count": 21,
   "metadata": {},
   "outputs": [],
   "source": [
    "concat_sub[['id', 'is_iceberg']].to_csv('stack_weighted_mean.csv', \n",
    "                                        index=False, float_format='%.6f')"
   ]
  }
 ],
 "metadata": {
  "kernelspec": {
   "display_name": "Python 2",
   "language": "python",
   "name": "python2"
  },
  "language_info": {
   "codemirror_mode": {
    "name": "ipython",
    "version": 2
   },
   "file_extension": ".py",
   "mimetype": "text/x-python",
   "name": "python",
   "nbconvert_exporter": "python",
   "pygments_lexer": "ipython2",
   "version": "2.7.12"
  }
 },
 "nbformat": 4,
 "nbformat_minor": 1
}
